{
 "cells": [
  {
   "cell_type": "markdown",
   "metadata": {},
   "source": [
    "### Duljina luka krivulje\n",
    "\n",
    "Funkcija duljine luka krivulje $c$ od točke $c(t_0)$ je funkcija $s$ definirana ovako: $$ s(t)=\\int_{t_0}^{t} ||c'(u)||du , t_0 \\in I $$\n",
    "\n",
    "__Duljina luka__ krivulje $c:<a,b>\\rightarrow\\mathbb{R}^n$ je realan broj $$ s= \\int_{a}^{b}||c'(u)||du$$\n",
    "\n",
    "__Primjer__ Odredite duljinu luka astroide $ c(t)=\\left(\\cos^3(t), \\sin^3(t)\\right), t \\in  \\left[ 0,2\\pi \\right> $"
   ]
  },
  {
   "cell_type": "code",
   "execution_count": 1,
   "metadata": {},
   "outputs": [
    {
     "data": {
      "text/plain": [
       "(4.844224110273837, 1.733634707000876e-10)"
      ]
     },
     "execution_count": 1,
     "metadata": {},
     "output_type": "execute_result"
    }
   ],
   "source": [
    "from scipy.integrate import quad\n",
    "from numpy import cos, sin, pi, sqrt\n",
    "\n",
    "\n",
    "def norma(x):\n",
    "    return (sqrt((cos(x))**6 + (sin(x))**6))\n",
    "\n",
    "\n",
    "def duljina_luka(f, a, b):\n",
    "    return quad(f, a, b)\n",
    "\n",
    "duljina_luka(norma, 0, 2*pi)\n",
    "\n"
   ]
  },
  {
   "cell_type": "markdown",
   "metadata": {},
   "source": [
    "### Reparametrizacija krivulje\n",
    "\n",
    "Parametrizirana krivulja $ \\bar{c}: \\bar{I} \\rightarrow \\mathbb{R}^n$ naziva se __reparametrizacijom__ (parametrizirane) krivulje $ c:I \\rightarrow\\mathbb{R}^n$ ako postoji glatki difeomorfizam $ \\phi:\\bar{I}\\rightarrow I$ za koji vrijedi $ \\bar{c}=c\\circ\\phi $, tj. $$ \\bar{c}(\\bar{t})= c(\\phi(\\bar{t}))=c(t) ,  t \\in I$$\n",
    "\n",
    "__Primjer__ Reparametrizirajte kružnicu $ c(t) = \\left(1+ 2\\cos(t), 3 + 2\\sin(t)\\right) , t \\in \\left[0,2\\pi\\right> $, duljinom luka."
   ]
  },
  {
   "cell_type": "code",
   "execution_count": 2,
   "metadata": {},
   "outputs": [
    {
     "name": "stdout",
     "output_type": "stream",
     "text": [
      "s(x) =  2*x*sqrt(sin(x)**2 + cos(x)**2)\n",
      "Pojednostavljeno rjesenje integrala je s(x) =  2*x\n"
     ]
    },
    {
     "data": {
      "text/plain": [
       "(2*cos(0.5*s) + 1, 2*sin(0.5*s) + 3)"
      ]
     },
     "execution_count": 2,
     "metadata": {},
     "output_type": "execute_result"
    }
   ],
   "source": [
    "from sympy import integrate, trigsimp, Symbol\n",
    "import sympy as s\n",
    "from sympy.functions import cos, sin, sqrt\n",
    "\n",
    "x = Symbol('x')\n",
    "s = integrate(sqrt((2*cos(x))**2+(2*sin(x))**2), x)\n",
    "print(\"s(x) = \", s)\n",
    "\n",
    "s = trigsimp(2*x*sqrt(sin(x)**2 + cos(x)**2))\n",
    "\n",
    "# Pojednostavnili smo izraz koji dobijemo kad izračunamo integral.\n",
    "print(\"Pojednostavljeno rjesenje integrala je s(x) = \", s)\n",
    "\n",
    "# Imamo da je s(x)=2*x pa je x(s)=1/2*s.\n",
    "s = Symbol('s')\n",
    "x = 1.0/2*s\n",
    "\n",
    "\n",
    "# Definiramo funkciju iz zadatka.\n",
    "def fun(x):\n",
    "    return (1 + 2*cos(x), 3 + 2*sin(x))\n",
    "\n",
    "\n",
    "# Dobivamo reparametrizaciju duljinom luka.\n",
    "def reparametrizacija(f, x):\n",
    "    return f(x)\n",
    "\n",
    "reparametrizacija(fun, x)\n"
   ]
  },
  {
   "cell_type": "markdown",
   "metadata": {},
   "source": [
    "### Regularne krivulje\n",
    "\n",
    "Krivulju $ c:I\\rightarrow\\mathbb{R}^n $ nazivamo __regularnom__ ako je $ c'(t)\\not=0 , t \\in I $. Točku krivulje za koju je $ c'(t)=0 $ nazivamo singularnom.\n",
    "\n",
    "__Primjer__ Ispitajte je li krivulja $ c(t)=\\left( \\sin^2(t), \\cos^2(t) \\right), t \\in \\left< \\frac{\\pi}{4}, \\frac{3\\pi}{4}\\right>) $ regularna."
   ]
  },
  {
   "cell_type": "code",
   "execution_count": 3,
   "metadata": {},
   "outputs": [
    {
     "name": "stdout",
     "output_type": "stream",
     "text": [
      "xx =  sin(2*x)\n",
      "yy =  -sin(2*x)\n",
      "Postoje nultočke na zadanom intervalu, funkcija nije regularna!\n"
     ]
    }
   ],
   "source": [
    "from sympy import Symbol, trigsimp, diff\n",
    "from scipy.optimize import bisect\n",
    "import scipy\n",
    "from sympy import *\n",
    "from sympy.abc import x\n",
    "\n",
    "# Najprije deriviramo funkciju.\n",
    "xx = diff(sin(x)**2, x)\n",
    "yy = diff(cos(x)**2, x)\n",
    "\n",
    "xx = trigsimp(2*sin(x)*cos(x))\n",
    "print ('xx = ', xx)\n",
    "yy = trigsimp(-2*sin(x)*cos(x))\n",
    "print ('yy = ', yy)\n",
    "\n",
    "\n",
    "# Je li derivacija različita od nule u svakoj točki na zadanom intervalu.\n",
    "def pom1(x):\n",
    "    y = scipy.sin(2*x)\n",
    "    return y\n",
    "\n",
    "\n",
    "def pom2(x):\n",
    "    y = -(scipy.sin(2*x))\n",
    "    return y\n",
    "\n",
    "if(bisect(pom1, pi*1.0/4, pi*3.0/4) != 0 or\n",
    "   bisect(pom2, pi*1.0/4, pi*3.0/4) != 0):\n",
    "    print (\"Postoje nultočke na zadanom intervalu, funkcija nije regularna!\")\n"
   ]
  }
 ],
 "metadata": {
  "kernelspec": {
   "display_name": "Python 3",
   "language": "python",
   "name": "python3"
  },
  "language_info": {
   "codemirror_mode": {
    "name": "ipython",
    "version": 3
   },
   "file_extension": ".py",
   "mimetype": "text/x-python",
   "name": "python",
   "nbconvert_exporter": "python",
   "pygments_lexer": "ipython3",
   "version": "3.6.4"
  }
 },
 "nbformat": 4,
 "nbformat_minor": 2
}
